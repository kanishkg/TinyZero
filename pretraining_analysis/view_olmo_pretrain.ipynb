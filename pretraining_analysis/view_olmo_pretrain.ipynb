{
 "cells": [
  {
   "cell_type": "code",
   "execution_count": 1,
   "metadata": {},
   "outputs": [
    {
     "name": "stderr",
     "output_type": "stream",
     "text": [
      "/home/anikait.singh/miniconda3/envs/sglang/lib/python3.10/site-packages/tqdm/auto.py:21: TqdmWarning: IProgress not found. Please update jupyter and ipywidgets. See https://ipywidgets.readthedocs.io/en/stable/user_install.html\n",
      "  from .autonotebook import tqdm as notebook_tqdm\n"
     ]
    },
    {
     "data": {
      "text/plain": [
       "Dataset({\n",
       "    features: ['url', 'text', 'date', 'metadata', 'backtracking_raw', 'is_solution_raw', 'verification_raw'],\n",
       "    num_rows: 10000\n",
       "})"
      ]
     },
     "execution_count": 1,
     "metadata": {},
     "output_type": "execute_result"
    }
   ],
   "source": [
    "import datasets\n",
    "ds = datasets.load_dataset('Asap7772/open-web-math-processed', split='train')\n",
    "ds"
   ]
  },
  {
   "cell_type": "code",
   "execution_count": 2,
   "metadata": {},
   "outputs": [],
   "source": [
    "import re\n",
    "\n",
    "def extract_variables(markdown_text):\n",
    "    \"\"\"\n",
    "    Extracts variable values from a markdown string.\n",
    "    The markdown is expected to have sections where a header (starting with '##')\n",
    "    is immediately followed (after optional blank lines) by a single line\n",
    "    containing the variable value.\n",
    "    \n",
    "    Args:\n",
    "        markdown_text (str): The markdown content as a string.\n",
    "        \n",
    "    Returns:\n",
    "        dict: A dictionary where keys are header texts and values are the extracted variable lines.\n",
    "    \"\"\"\n",
    "    # This regex works as follows:\n",
    "    # - It finds a header line that starts with '##', capturing any text that follows.\n",
    "    # - It then matches one or more newline characters (allowing for blank lines),\n",
    "    #   and captures the first non-empty line that follows as the variable value.\n",
    "    pattern = r\"##\\s*(.*?)\\s*\\n+(?!##)([^\\n]+)\"\n",
    "    \n",
    "    matches = re.findall(pattern, markdown_text)\n",
    "    \n",
    "    variables = {}\n",
    "    for header, var in matches:\n",
    "        # Strip any extra whitespace from the variable text\n",
    "        variables[header] = var.strip()\n",
    "    return variables"
   ]
  },
  {
   "cell_type": "code",
   "execution_count": 3,
   "metadata": {},
   "outputs": [
    {
     "name": "stdout",
     "output_type": "stream",
     "text": [
      "Extracted variables:\n",
      "'Does backtrack?': 'no'\n",
      "'Number of backtrack steps': '<count> 0 </count>.'\n",
      "'Rationale': 'The provided text does not exhibit any backtracking behavior. It is a coherent and linear discussion about Bayes' theorem, its history, and related topics, without any instances of the author explicitly abandoning a line of reasoning to try a different approach. The text includes various tangents and asides, but these are presented in a straightforward and non-recursive manner, without any indication of backtracking.'\n"
     ]
    }
   ],
   "source": [
    "extracted_vars = extract_variables(ds['backtracking_raw'][0])\n",
    "print(\"Extracted variables:\")\n",
    "for header, var in extracted_vars.items():\n",
    "    print(f\"'{header}': '{var}'\")"
   ]
  },
  {
   "cell_type": "code",
   "execution_count": 4,
   "metadata": {},
   "outputs": [
    {
     "name": "stderr",
     "output_type": "stream",
     "text": [
      "Map (num_proc=24): 100%|██████████| 9614/9614 [00:00<00:00, 32105.82 examples/s]\n"
     ]
    }
   ],
   "source": [
    "import os\n",
    "def map_fn_backtrack(examples):\n",
    "    ret_dict = {}\n",
    "    for i in range(len(examples['text'])):\n",
    "        \n",
    "        curr_backtrack = examples['backtracking_raw'][i]\n",
    "        extracted_vars = extract_variables(curr_backtrack)\n",
    "        \n",
    "        required_keys = ['Does backtrack?', 'Number of backtrack steps', 'Rationale']\n",
    "        mapped_keys = ['is_backtrack', 'backtrack_count', 'backtrack_rationale']\n",
    "        \n",
    "        not_found = False\n",
    "        for key in required_keys: \n",
    "            if key not in extracted_vars:\n",
    "                not_found = True\n",
    "                break\n",
    "        if not_found: continue\n",
    "        \n",
    "        for key, mapped_key in zip(required_keys, mapped_keys):\n",
    "            if mapped_key not in ret_dict: ret_dict[mapped_key] = []\n",
    "            ret_dict[mapped_key].append(extracted_vars[key])\n",
    "\n",
    "        for k in examples.keys():\n",
    "            if k not in ret_dict: ret_dict[k] = []\n",
    "            ret_dict[k].append(examples[k][i])\n",
    "            \n",
    "    return ret_dict\n",
    "\n",
    "def map_fn_verification(examples):\n",
    "    ret_dict = {}\n",
    "    for i in range(len(examples['text'])):            \n",
    "        curr_verification = examples['verification_raw'][i]\n",
    "        extracted_vars = extract_variables(curr_verification)\n",
    "        \n",
    "        required_keys = ['Does answer verification?', 'Number of answer verification steps', 'Rationale']\n",
    "        mapped_keys = ['is_verification', 'verification_count', 'verification_rationale']\n",
    "        \n",
    "        not_found = False\n",
    "        for key in required_keys: \n",
    "            if key not in extracted_vars:\n",
    "                not_found = True\n",
    "                break\n",
    "        if not_found: continue\n",
    "        \n",
    "        for key, mapped_key in zip(required_keys, mapped_keys):\n",
    "            if mapped_key not in ret_dict: ret_dict[mapped_key] = []\n",
    "            ret_dict[mapped_key].append(extracted_vars[key])\n",
    "            \n",
    "        curr_is_solution = examples['is_solution_raw'][i]    \n",
    "        extracted_vars = extract_variables(curr_is_solution)\n",
    "\n",
    "        for k in examples.keys():\n",
    "            if k not in ret_dict: ret_dict[k] = []\n",
    "            ret_dict[k].append(examples[k][i])\n",
    "            \n",
    "    return ret_dict\n",
    "\n",
    "def map_fn_solution(examples):\n",
    "    ret_dict = {}\n",
    "    for i in range(len(examples['text'])):            \n",
    "        curr_verification = examples['is_solution_raw'][i]\n",
    "        extracted_vars = extract_variables(curr_verification)\n",
    "        \n",
    "        required_keys = ['Contains Problem?', 'Contains Solution?', 'Text domain (broad)', 'Text domain (specific)', 'Rationale']\n",
    "        mapped_keys = ['contain_problem', 'contain_solution', 'domain_broad', 'domain_specific', 'solution_rationale']\n",
    "        \n",
    "        not_found = False\n",
    "        for key in required_keys: \n",
    "            if key not in extracted_vars:\n",
    "                not_found = True\n",
    "                break\n",
    "        if not_found: continue\n",
    "        \n",
    "        for key, mapped_key in zip(required_keys, mapped_keys):\n",
    "            if mapped_key not in ret_dict: ret_dict[mapped_key] = []\n",
    "            ret_dict[mapped_key].append(extracted_vars[key])\n",
    "            \n",
    "        curr_is_solution = examples['is_solution_raw'][i]    \n",
    "        extracted_vars = extract_variables(curr_is_solution)\n",
    "\n",
    "        for k in examples.keys():\n",
    "            if k not in ret_dict: ret_dict[k] = []\n",
    "            ret_dict[k].append(examples[k][i])\n",
    "            \n",
    "    return ret_dict\n",
    "\n",
    "ds = ds.map(map_fn_backtrack, batched=True, remove_columns=ds.column_names, num_proc=os.cpu_count())\n",
    "ds = ds.map(map_fn_verification, batched=True, remove_columns=ds.column_names, num_proc=os.cpu_count())\n",
    "ds = ds.map(map_fn_solution, batched=True, remove_columns=ds.column_names, num_proc=os.cpu_count())"
   ]
  },
  {
   "cell_type": "code",
   "execution_count": 5,
   "metadata": {},
   "outputs": [
    {
     "data": {
      "text/plain": [
       "Dataset({\n",
       "    features: ['url', 'text', 'date', 'metadata', 'backtracking_raw', 'is_solution_raw', 'verification_raw', 'is_backtrack', 'backtrack_count', 'backtrack_rationale', 'is_verification', 'verification_count', 'verification_rationale', 'contain_problem', 'contain_solution', 'domain_broad', 'domain_specific', 'solution_rationale'],\n",
       "    num_rows: 9593\n",
       "})"
      ]
     },
     "execution_count": 5,
     "metadata": {},
     "output_type": "execute_result"
    }
   ],
   "source": [
    "ds"
   ]
  },
  {
   "cell_type": "code",
   "execution_count": 6,
   "metadata": {},
   "outputs": [
    {
     "name": "stderr",
     "output_type": "stream",
     "text": [
      "Filter (num_proc=24): 100%|██████████| 9593/9593 [00:00<00:00, 41052.95 examples/s]\n"
     ]
    }
   ],
   "source": [
    "filtered_ds_backtrack = ds.filter(lambda x: x['is_backtrack'].lower() == 'yes', num_proc=os.cpu_count())"
   ]
  },
  {
   "cell_type": "code",
   "execution_count": 7,
   "metadata": {},
   "outputs": [
    {
     "name": "stderr",
     "output_type": "stream",
     "text": [
      "Filter (num_proc=24): 100%|██████████| 9593/9593 [00:00<00:00, 44220.93 examples/s]\n"
     ]
    }
   ],
   "source": [
    "filtered_ds_verified = ds.filter(lambda x: x['is_verification'].lower() == 'yes', num_proc=os.cpu_count())"
   ]
  },
  {
   "cell_type": "code",
   "execution_count": 8,
   "metadata": {},
   "outputs": [
    {
     "data": {
      "text/plain": [
       "{'url': 'http://math.stackexchange.com/questions/222974/probability-of-getting-2-aces-2-kings-and-1-queen-in-a-five-card-poker-hand-pa',\n",
       " 'text': \"# Probability of getting 2 Aces, 2 Kings and 1 Queen in a five card poker hand (Part II)\\n\\nSo I reworked my formula in method 1 after getting help with my original question - Probability of getting 2 Aces, 2 Kings and 1 Queen in a five card poker hand. But I am still getting results that differ...although they are much much closer than before, but I must still be making a mistake somewhere in method 1. Anyone know what it is?\\n\\nMethod 1\\n\\n$P(2A \\\\cap 2K \\\\cap 1Q) = P(Q|2A \\\\cap 2K)P(2A|2K)P(2K)$\\n\\n$$= \\\\frac{1}{12}\\\\frac{{4 \\\\choose 2}{46 \\\\choose 1}}{50 \\\\choose 3}\\\\frac{{4 \\\\choose 2}{48 \\\\choose 3}}{52 \\\\choose 5}$$\\n\\n$$= \\\\frac{(6)(17296)(6)(46)}{(2598960)(19600)(12)}$$\\n\\n$$= 4.685642 * 10^{-5}$$\\n\\nMethod 2\\n\\n$$\\\\frac{{4 \\\\choose 2} {4 \\\\choose 2}{4 \\\\choose 1}}{52 \\\\choose 5} = \\\\frac{3}{54145}$$\\n\\n$$5.540678 * 10^{-5}$$\\n\\n-\\nPlease make an effort to make the question self-contained and provide a link to your earlier question. –\\xa0 Sasha Oct 28 '12 at 19:56\\nI think we would rather ahve you edit your initial question by adding your new progress. This avoids having loss of answer and keeps track of progress –\\xa0 Jean-Sébastien Oct 28 '12 at 19:56\\nBut there already answers to my original question so those answers would not make sense now that I am using a new formula for method 1. –\\xa0 sonicboom Oct 28 '12 at 20:03\\nConditional probability arguments can be delicate. Given that there are exactly two Kings, what's the $46$ doing? That allows the possibility of more Kings. –\\xa0 André Nicolas Oct 28 '12 at 20:26\\nThe $46$ is because have already taken two kings from the pack leaving us with 50. And now we have chosen 2 aces and we have to pick the other 1 card from the 50 remaining cards less the 4 aces? –\\xa0 sonicboom Oct 28 '12 at 20:42\\nshow 1 more comment\\n\\n$$\\\\frac{1}{11}\\\\frac{{4 \\\\choose 2}{44 \\\\choose 1}}{48 \\\\choose 3}\\\\frac{{4 \\\\choose 2}{48 \\\\choose 3}}{52 \\\\choose 5}$$\\nIf you wrote this as $$\\\\frac{{4 \\\\choose 2}{48 \\\\choose 3}}{52 \\\\choose 5}\\\\frac{{4 \\\\choose 2}{44 \\\\choose 1}}{48 \\\\choose 3}\\\\frac{{4 \\\\choose 1}{40 \\\\choose 0}}{44 \\\\choose 1}$$ it might be more obvious why they are the same.\",\n",
       " 'date': '2014-03-07 11:01:44',\n",
       " 'metadata': '{\"extraction_info\": {\"found_math\": true, \"script_math_tex\": 0, \"script_math_asciimath\": 0, \"math_annotations\": 0, \"math_alttext\": 0, \"mathml\": 0, \"mathjax_tag\": 0, \"mathjax_inline_tex\": 1, \"mathjax_display_tex\": 1, \"mathjax_asciimath\": 0, \"img_math\": 0, \"codecogs_latex\": 0, \"wp_latex\": 0, \"mimetex.cgi\": 0, \"/images/math/codecogs\": 0, \"mathtex.cgi\": 0, \"katex\": 0, \"math-container\": 0, \"wp-katex-eq\": 0, \"align\": 0, \"equation\": 0, \"x-ck12\": 0, \"texerror\": 0, \"math_score\": 0.7363124489784241, \"perplexity\": 334.5089065648005}, \"config\": {\"markdown_headings\": true, \"markdown_code\": true, \"boilerplate_config\": {\"ratio_threshold\": 0.18, \"absolute_threshold\": 10, \"end_threshold\": 15, \"enable\": true}, \"remove_buttons\": true, \"remove_image_figures\": true, \"remove_link_clusters\": true, \"table_config\": {\"min_rows\": 2, \"min_cols\": 3, \"format\": \"plain\"}, \"remove_chinese\": true, \"remove_edit_buttons\": true, \"extract_latex\": true}, \"warc_path\": \"s3://commoncrawl/crawl-data/CC-MAIN-2014-10/segments/1393999642170/warc/CC-MAIN-20140305060722-00084-ip-10-183-142-35.ec2.internal.warc.gz\"}',\n",
       " 'backtracking_raw': '## Does backtrack?\\nyes\\n\\n## Number of backtrack steps\\n<count> 1 </count>.\\n\\n## Rationale\\nThe model backtracks when it says \"But I am still getting results that differ...although they are much much closer than before, but I must still be making a mistake somewhere in method 1.\" This indicates that the model has realized its initial approach may not be correct and is re-evaluating its method. Additionally, the model receives feedback from André Nicolas, pointing out a potential error in the conditional probability argument, which leads to a reworking of the formula. This exchange suggests that the model is explicitly trying a different approach after realizing the initial path may not work, demonstrating backtracking behavior.',\n",
       " 'is_solution_raw': '## Contains Problem?\\nyes\\n\\n## Contains Solution?\\nyes\\n\\n## Text domain (broad)\\nmath\\n\\n## Text domain (specific)\\nProbability, specifically Conditional Probability in the context of Poker\\n\\n## Rationale\\nThe text discusses the probability of getting a specific combination of cards in a poker hand, using mathematical formulas and notation. The problem is clearly stated, and two different methods (Method 1 and Method 2) are presented to solve it. The text also includes a discussion of the discrepancy between the results obtained from the two methods, indicating that the author is trying to identify and resolve an error in their calculation. The use of mathematical notation, such as $P(2A \\\\cap 2K \\\\cap 1Q)$ and ${4 \\\\choose 2}$, further supports the classification of the text as belonging to the domain of mathematics, specifically probability.',\n",
       " 'verification_raw': '## Does answer verification?\\nyes\\n\\n## Number of answer verification steps\\n<count> 2 </count>.\\n\\n## Rationale\\nThe chain-of-reasoning contains answer verification steps where the author compares the results from Method 1 and Method 2, indicating that they are \"still getting results that differ\" and that the results are \"much much closer than before, but I must still be making a mistake somewhere in method 1.\" This suggests that the author is explicitly checking the current results against each other, which is a form of answer verification. Additionally, the author calculates the final probabilities for both methods and presents them, which can be seen as an implicit verification step, checking if the results match or are close.',\n",
       " 'is_backtrack': 'yes',\n",
       " 'backtrack_count': '<count> 1 </count>.',\n",
       " 'backtrack_rationale': 'The model backtracks when it says \"But I am still getting results that differ...although they are much much closer than before, but I must still be making a mistake somewhere in method 1.\" This indicates that the model has realized its initial approach may not be correct and is re-evaluating its method. Additionally, the model receives feedback from André Nicolas, pointing out a potential error in the conditional probability argument, which leads to a reworking of the formula. This exchange suggests that the model is explicitly trying a different approach after realizing the initial path may not work, demonstrating backtracking behavior.',\n",
       " 'is_verification': 'yes',\n",
       " 'verification_count': '<count> 2 </count>.',\n",
       " 'verification_rationale': 'The chain-of-reasoning contains answer verification steps where the author compares the results from Method 1 and Method 2, indicating that they are \"still getting results that differ\" and that the results are \"much much closer than before, but I must still be making a mistake somewhere in method 1.\" This suggests that the author is explicitly checking the current results against each other, which is a form of answer verification. Additionally, the author calculates the final probabilities for both methods and presents them, which can be seen as an implicit verification step, checking if the results match or are close.',\n",
       " 'contain_problem': 'yes',\n",
       " 'contain_solution': 'yes',\n",
       " 'domain_broad': 'math',\n",
       " 'domain_specific': 'Probability, specifically Conditional Probability in the context of Poker',\n",
       " 'solution_rationale': 'The text discusses the probability of getting a specific combination of cards in a poker hand, using mathematical formulas and notation. The problem is clearly stated, and two different methods (Method 1 and Method 2) are presented to solve it. The text also includes a discussion of the discrepancy between the results obtained from the two methods, indicating that the author is trying to identify and resolve an error in their calculation. The use of mathematical notation, such as $P(2A \\\\cap 2K \\\\cap 1Q)$ and ${4 \\\\choose 2}$, further supports the classification of the text as belonging to the domain of mathematics, specifically probability.'}"
      ]
     },
     "execution_count": 8,
     "metadata": {},
     "output_type": "execute_result"
    }
   ],
   "source": [
    "filtered_ds_backtrack[0]"
   ]
  },
  {
   "cell_type": "code",
   "execution_count": 9,
   "metadata": {},
   "outputs": [
    {
     "name": "stdout",
     "output_type": "stream",
     "text": [
      "# Probability of getting 2 Aces, 2 Kings and 1 Queen in a five card poker hand (Part II)\n",
      "\n",
      "So I reworked my formula in method 1 after getting help with my original question - Probability of getting 2 Aces, 2 Kings and 1 Queen in a five card poker hand. But I am still getting results that differ...although they are much much closer than before, but I must still be making a mistake somewhere in method 1. Anyone know what it is?\n",
      "\n",
      "Method 1\n",
      "\n",
      "$P(2A \\cap 2K \\cap 1Q) = P(Q|2A \\cap 2K)P(2A|2K)P(2K)$\n",
      "\n",
      "$$= \\frac{1}{12}\\frac{{4 \\choose 2}{46 \\choose 1}}{50 \\choose 3}\\frac{{4 \\choose 2}{48 \\choose 3}}{52 \\choose 5}$$\n",
      "\n",
      "$$= \\frac{(6)(17296)(6)(46)}{(2598960)(19600)(12)}$$\n",
      "\n",
      "$$= 4.685642 * 10^{-5}$$\n",
      "\n",
      "Method 2\n",
      "\n",
      "$$\\frac{{4 \\choose 2} {4 \\choose 2}{4 \\choose 1}}{52 \\choose 5} = \\frac{3}{54145}$$\n",
      "\n",
      "$$5.540678 * 10^{-5}$$\n",
      "\n",
      "-\n",
      "Please make an effort to make the question self-contained and provide a link to your earlier question. –  Sasha Oct 28 '12 at 19:56\n",
      "I think we would rather ahve you edit your initial question by adding your new progress. This avoids having loss of answer and keeps track of progress –  Jean-Sébastien Oct 28 '12 at 19:56\n",
      "But there already answers to my original question so those answers would not make sense now that I am using a new formula for method 1. –  sonicboom Oct 28 '12 at 20:03\n",
      "Conditional probability arguments can be delicate. Given that there are exactly two Kings, what's the $46$ doing? That allows the possibility of more Kings. –  André Nicolas Oct 28 '12 at 20:26\n",
      "The $46$ is because have already taken two kings from the pack leaving us with 50. And now we have chosen 2 aces and we have to pick the other 1 card from the 50 remaining cards less the 4 aces? –  sonicboom Oct 28 '12 at 20:42\n",
      "show 1 more comment\n",
      "\n",
      "$$\\frac{1}{11}\\frac{{4 \\choose 2}{44 \\choose 1}}{48 \\choose 3}\\frac{{4 \\choose 2}{48 \\choose 3}}{52 \\choose 5}$$\n",
      "If you wrote this as $$\\frac{{4 \\choose 2}{48 \\choose 3}}{52 \\choose 5}\\frac{{4 \\choose 2}{44 \\choose 1}}{48 \\choose 3}\\frac{{4 \\choose 1}{40 \\choose 0}}{44 \\choose 1}$$ it might be more obvious why they are the same.\n"
     ]
    }
   ],
   "source": [
    "print(filtered_ds_backtrack[0]['text'])"
   ]
  },
  {
   "cell_type": "code",
   "execution_count": 10,
   "metadata": {},
   "outputs": [
    {
     "data": {
      "text/plain": [
       "{'url': 'http://math.stackexchange.com/questions/222974/probability-of-getting-2-aces-2-kings-and-1-queen-in-a-five-card-poker-hand-pa',\n",
       " 'text': \"# Probability of getting 2 Aces, 2 Kings and 1 Queen in a five card poker hand (Part II)\\n\\nSo I reworked my formula in method 1 after getting help with my original question - Probability of getting 2 Aces, 2 Kings and 1 Queen in a five card poker hand. But I am still getting results that differ...although they are much much closer than before, but I must still be making a mistake somewhere in method 1. Anyone know what it is?\\n\\nMethod 1\\n\\n$P(2A \\\\cap 2K \\\\cap 1Q) = P(Q|2A \\\\cap 2K)P(2A|2K)P(2K)$\\n\\n$$= \\\\frac{1}{12}\\\\frac{{4 \\\\choose 2}{46 \\\\choose 1}}{50 \\\\choose 3}\\\\frac{{4 \\\\choose 2}{48 \\\\choose 3}}{52 \\\\choose 5}$$\\n\\n$$= \\\\frac{(6)(17296)(6)(46)}{(2598960)(19600)(12)}$$\\n\\n$$= 4.685642 * 10^{-5}$$\\n\\nMethod 2\\n\\n$$\\\\frac{{4 \\\\choose 2} {4 \\\\choose 2}{4 \\\\choose 1}}{52 \\\\choose 5} = \\\\frac{3}{54145}$$\\n\\n$$5.540678 * 10^{-5}$$\\n\\n-\\nPlease make an effort to make the question self-contained and provide a link to your earlier question. –\\xa0 Sasha Oct 28 '12 at 19:56\\nI think we would rather ahve you edit your initial question by adding your new progress. This avoids having loss of answer and keeps track of progress –\\xa0 Jean-Sébastien Oct 28 '12 at 19:56\\nBut there already answers to my original question so those answers would not make sense now that I am using a new formula for method 1. –\\xa0 sonicboom Oct 28 '12 at 20:03\\nConditional probability arguments can be delicate. Given that there are exactly two Kings, what's the $46$ doing? That allows the possibility of more Kings. –\\xa0 André Nicolas Oct 28 '12 at 20:26\\nThe $46$ is because have already taken two kings from the pack leaving us with 50. And now we have chosen 2 aces and we have to pick the other 1 card from the 50 remaining cards less the 4 aces? –\\xa0 sonicboom Oct 28 '12 at 20:42\\nshow 1 more comment\\n\\n$$\\\\frac{1}{11}\\\\frac{{4 \\\\choose 2}{44 \\\\choose 1}}{48 \\\\choose 3}\\\\frac{{4 \\\\choose 2}{48 \\\\choose 3}}{52 \\\\choose 5}$$\\nIf you wrote this as $$\\\\frac{{4 \\\\choose 2}{48 \\\\choose 3}}{52 \\\\choose 5}\\\\frac{{4 \\\\choose 2}{44 \\\\choose 1}}{48 \\\\choose 3}\\\\frac{{4 \\\\choose 1}{40 \\\\choose 0}}{44 \\\\choose 1}$$ it might be more obvious why they are the same.\",\n",
       " 'date': '2014-03-07 11:01:44',\n",
       " 'metadata': '{\"extraction_info\": {\"found_math\": true, \"script_math_tex\": 0, \"script_math_asciimath\": 0, \"math_annotations\": 0, \"math_alttext\": 0, \"mathml\": 0, \"mathjax_tag\": 0, \"mathjax_inline_tex\": 1, \"mathjax_display_tex\": 1, \"mathjax_asciimath\": 0, \"img_math\": 0, \"codecogs_latex\": 0, \"wp_latex\": 0, \"mimetex.cgi\": 0, \"/images/math/codecogs\": 0, \"mathtex.cgi\": 0, \"katex\": 0, \"math-container\": 0, \"wp-katex-eq\": 0, \"align\": 0, \"equation\": 0, \"x-ck12\": 0, \"texerror\": 0, \"math_score\": 0.7363124489784241, \"perplexity\": 334.5089065648005}, \"config\": {\"markdown_headings\": true, \"markdown_code\": true, \"boilerplate_config\": {\"ratio_threshold\": 0.18, \"absolute_threshold\": 10, \"end_threshold\": 15, \"enable\": true}, \"remove_buttons\": true, \"remove_image_figures\": true, \"remove_link_clusters\": true, \"table_config\": {\"min_rows\": 2, \"min_cols\": 3, \"format\": \"plain\"}, \"remove_chinese\": true, \"remove_edit_buttons\": true, \"extract_latex\": true}, \"warc_path\": \"s3://commoncrawl/crawl-data/CC-MAIN-2014-10/segments/1393999642170/warc/CC-MAIN-20140305060722-00084-ip-10-183-142-35.ec2.internal.warc.gz\"}',\n",
       " 'backtracking_raw': '## Does backtrack?\\nyes\\n\\n## Number of backtrack steps\\n<count> 1 </count>.\\n\\n## Rationale\\nThe model backtracks when it says \"But I am still getting results that differ...although they are much much closer than before, but I must still be making a mistake somewhere in method 1.\" This indicates that the model has realized its initial approach may not be correct and is re-evaluating its method. Additionally, the model receives feedback from André Nicolas, pointing out a potential error in the conditional probability argument, which leads to a reworking of the formula. This exchange suggests that the model is explicitly trying a different approach after realizing the initial path may not work, demonstrating backtracking behavior.',\n",
       " 'is_solution_raw': '## Contains Problem?\\nyes\\n\\n## Contains Solution?\\nyes\\n\\n## Text domain (broad)\\nmath\\n\\n## Text domain (specific)\\nProbability, specifically Conditional Probability in the context of Poker\\n\\n## Rationale\\nThe text discusses the probability of getting a specific combination of cards in a poker hand, using mathematical formulas and notation. The problem is clearly stated, and two different methods (Method 1 and Method 2) are presented to solve it. The text also includes a discussion of the discrepancy between the results obtained from the two methods, indicating that the author is trying to identify and resolve an error in their calculation. The use of mathematical notation, such as $P(2A \\\\cap 2K \\\\cap 1Q)$ and ${4 \\\\choose 2}$, further supports the classification of the text as belonging to the domain of mathematics, specifically probability.',\n",
       " 'verification_raw': '## Does answer verification?\\nyes\\n\\n## Number of answer verification steps\\n<count> 2 </count>.\\n\\n## Rationale\\nThe chain-of-reasoning contains answer verification steps where the author compares the results from Method 1 and Method 2, indicating that they are \"still getting results that differ\" and that the results are \"much much closer than before, but I must still be making a mistake somewhere in method 1.\" This suggests that the author is explicitly checking the current results against each other, which is a form of answer verification. Additionally, the author calculates the final probabilities for both methods and presents them, which can be seen as an implicit verification step, checking if the results match or are close.',\n",
       " 'is_backtrack': 'yes',\n",
       " 'backtrack_count': '<count> 1 </count>.',\n",
       " 'backtrack_rationale': 'The model backtracks when it says \"But I am still getting results that differ...although they are much much closer than before, but I must still be making a mistake somewhere in method 1.\" This indicates that the model has realized its initial approach may not be correct and is re-evaluating its method. Additionally, the model receives feedback from André Nicolas, pointing out a potential error in the conditional probability argument, which leads to a reworking of the formula. This exchange suggests that the model is explicitly trying a different approach after realizing the initial path may not work, demonstrating backtracking behavior.',\n",
       " 'is_verification': 'yes',\n",
       " 'verification_count': '<count> 2 </count>.',\n",
       " 'verification_rationale': 'The chain-of-reasoning contains answer verification steps where the author compares the results from Method 1 and Method 2, indicating that they are \"still getting results that differ\" and that the results are \"much much closer than before, but I must still be making a mistake somewhere in method 1.\" This suggests that the author is explicitly checking the current results against each other, which is a form of answer verification. Additionally, the author calculates the final probabilities for both methods and presents them, which can be seen as an implicit verification step, checking if the results match or are close.',\n",
       " 'contain_problem': 'yes',\n",
       " 'contain_solution': 'yes',\n",
       " 'domain_broad': 'math',\n",
       " 'domain_specific': 'Probability, specifically Conditional Probability in the context of Poker',\n",
       " 'solution_rationale': 'The text discusses the probability of getting a specific combination of cards in a poker hand, using mathematical formulas and notation. The problem is clearly stated, and two different methods (Method 1 and Method 2) are presented to solve it. The text also includes a discussion of the discrepancy between the results obtained from the two methods, indicating that the author is trying to identify and resolve an error in their calculation. The use of mathematical notation, such as $P(2A \\\\cap 2K \\\\cap 1Q)$ and ${4 \\\\choose 2}$, further supports the classification of the text as belonging to the domain of mathematics, specifically probability.'}"
      ]
     },
     "execution_count": 10,
     "metadata": {},
     "output_type": "execute_result"
    }
   ],
   "source": [
    "filtered_ds_verified[0]"
   ]
  },
  {
   "cell_type": "code",
   "execution_count": 13,
   "metadata": {},
   "outputs": [
    {
     "name": "stdout",
     "output_type": "stream",
     "text": [
      "## MATH1111 Quizzes\n",
      "\n",
      "Local Linearity and the Differential Quiz\n",
      "Web resources available Questions\n",
      "\n",
      "This quiz tests the work covered in lecture on local linearity and the differential and corresponds to Section 14.3 of the textbook Calculus: Single and Multivariable (Hughes-Hallett, Gleason, McCallum et al.).\n",
      "There is a useful applet at http://www.slu.edu/classes/maymk/banchoff/TangentPlane.html - take some time to read the instructions and add your own functions.\n",
      "\n",
      "There are more web quizzes at Wiley, select Section 3. This quiz has 10 questions.\n",
      "\n",
      "Suppose $f\\left(3,2\\right)=4\\phantom{\\rule{0.3em}{0ex}},\\phantom{\\rule{1em}{0ex}}{f}_{x}\\left(3,2\\right)=-2$ and ${f}_{y}\\left(3,2\\right)=3$ for some surface $z=f\\left(x,y\\right)\\phantom{\\rule{0.3em}{0ex}}.$\n",
      "Which of the following is the tangent plane to the surface at $\\left(3,2,4\\right)\\phantom{\\rule{0.3em}{0ex}}?$ Exactly one option must be correct)\n",
      " a) $4z=-2\\left(x-3\\right)+3\\left(y-2\\right)$ b) $z=4-2\\left(x-3\\right)+3\\left(y-2\\right)$ c) $z+4=2\\left(x+3\\right)+3\\left(y+2\\right)$ d) $4z=3\\left(x+3\\right)-2\\left(y+2\\right)$\n",
      "\n",
      "Choice (a) is incorrect\n",
      "Try again, check the formula for the tangent plane.\n",
      "Choice (b) is correct!\n",
      "The tangent at the point $\\left(a,b\\right)$ on the surface is $z=f\\left(a,b\\right)+{f}_{x}\\left(a,b\\right)\\left(x-a\\right)+{f}_{\\left(}a,b\\right)\\left(y-b\\right)$ so the above equation is correct.\n",
      "Choice (c) is incorrect\n",
      "Try again, check the formula for the tangent plane.\n",
      "Choice (d) is incorrect\n",
      "Try again, check the formula for the tangent plane.\n",
      "Is the plane $z=12+8\\left(x-1\\right)+7\\left(y-2\\right)$ the tangent plane to the surface, $f\\left(x,y\\right)={x}^{2}+3xy+{y}^{2}-1$ at $\\left(1,2\\right)\\phantom{\\rule{0.3em}{0ex}}?$ Exactly one option must be correct)\n",
      " a) Yes. b) No\n",
      "\n",
      "Choice (a) is incorrect\n",
      "$f\\left(1,2\\right)=10$ and $z=12$ at $\\left(1,2\\right)$ so the plane does not touch the surface.\n",
      "Choice (b) is correct!\n",
      "${f}_{x}\\left(x,y\\right)=2x+3y$ so ${f}_{x}\\left(1,2\\right)=2+6=8$\n",
      "${f}_{y}\\left(x,y\\right)=3x+2y$ so ${f}_{y}\\left(1,2\\right)=3+4=7$\n",
      "$f\\left(1,2\\right)=10$ so the tangent plane is $z=10+8\\left(x-1\\right)+7\\left(y-2\\right)\\phantom{\\rule{0.3em}{0ex}}.$\n",
      "Which of the following is the tangent plane to the surface $f\\left(x,y\\right)={x}^{2}-2xy-3{y}^{2}$ at the point $\\left(-2,1,5\\right)\\phantom{\\rule{0.3em}{0ex}}?$ Exactly one option must be correct)\n",
      " a) $z+6x+2y+15=0$ b) $z-6x-2y+5=0$ c) $z+6x+2y+5=0\\phantom{\\rule{0.3em}{0ex}}.$ d) None of the above, since $\\left(-2,1,5\\right)$ is not on the surface.\n",
      "\n",
      "Choice (a) is incorrect\n",
      "Try again, look carefully at the signs of the constant terms.\n",
      "Choice (b) is incorrect\n",
      "Try again, carefully rearrange your equation.\n",
      "Choice (c) is correct!\n",
      "${f}_{x}\\left(x,y\\right)=2x-2y$ so ${f}_{x}\\left(-2,1\\right)=-4-2=-6$\n",
      "${f}_{y}\\left(x,y\\right)=-2x-6y$ so ${f}_{y}\\left(-2,1\\right)=4-6=-2$\n",
      "$f\\left(-2,1\\right)=5$ so the tangent plane is $z=5-6\\left(x+2\\right)-2\\left(y-1\\right)⇒z+6x+2y+5=0$ as required.\n",
      "Choice (d) is incorrect\n",
      "Try again, the point is on the surface.\n",
      "Which of the following is the differential of $f\\left(x,y\\right)=sinxy\\phantom{\\rule{0.3em}{0ex}}{e}^{xy}\\phantom{\\rule{0.3em}{0ex}}?$ Exactly one option must be correct)\n",
      " a) $df=cosxy\\phantom{\\rule{0.3em}{0ex}}{e}^{xy}\\left({y}^{2}\\phantom{\\rule{0.3em}{0ex}}dx+{x}^{2}\\phantom{\\rule{0.3em}{0ex}}dy\\right)$ b) $df={e}^{xy}\\left(cosxy+sinxy\\right)\\left(x\\phantom{\\rule{0.3em}{0ex}}dx+y\\phantom{\\rule{0.3em}{0ex}}dy\\right)$ c) $df={e}^{xy}\\left(-cosxy+sinxy\\right)\\left(y\\phantom{\\rule{0.3em}{0ex}}dx+x\\phantom{\\rule{0.3em}{0ex}}dy\\right)$ d) $df={e}^{xy}\\left(cosxy+sinxy\\right)\\left(y\\phantom{\\rule{0.3em}{0ex}}dx+x\\phantom{\\rule{0.3em}{0ex}}dy\\right)$\n",
      "\n",
      "Choice (a) is incorrect\n",
      "Try again, you must use the product rule to differentiate $f\\left(x,y\\right)\\phantom{\\rule{0.3em}{0ex}}.$\n",
      "Choice (b) is incorrect\n",
      "Try again, you have not differentiated $f\\left(x,y\\right)$ correctly.\n",
      "Choice (c) is incorrect\n",
      "Try again, you have not differentiated $sinxy$ correctly.\n",
      "Choice (d) is correct!\n",
      "${f}_{x}\\left(x,y\\right)=ycosxy\\phantom{\\rule{0.3em}{0ex}}{e}^{xy}+sinxy\\left(y{e}^{xy}\\right)=y{e}^{xy}\\left(cosxy+sinxy\\right)$ using the product rule, and\n",
      "\n",
      "${f}_{y}\\left(x,y\\right)=xcosxy\\phantom{\\rule{0.3em}{0ex}}{e}^{xy}+sinxy\\left(x{e}^{xy}\\right)=x{e}^{xy}\\left(cosxy+sinxy\\right)$ using the product rule, so\n",
      "\n",
      "$df=y{e}^{xy}\\left(cosxy+sinxy\\right)\\phantom{\\rule{0.3em}{0ex}}dx+x{e}^{xy}\\left(cosxy+sinxy\\right)\\phantom{\\rule{0.3em}{0ex}}dy={e}^{xy}\\left(cosxy+sinxy\\right)\\left(y\\phantom{\\rule{0.3em}{0ex}}dx+x\\phantom{\\rule{0.3em}{0ex}}dy\\right)\\phantom{\\rule{0.3em}{0ex}}.$\n"
     ]
    }
   ],
   "source": [
    "print(filtered_ds_verified[1]['text'])"
   ]
  },
  {
   "cell_type": "code",
   "execution_count": 12,
   "metadata": {},
   "outputs": [
    {
     "name": "stderr",
     "output_type": "stream",
     "text": [
      "Creating parquet from Arrow format: 100%|██████████| 10/10 [00:00<00:00, 33.97ba/s]\n",
      "Uploading the dataset shards: 100%|██████████| 1/1 [00:05<00:00,  5.43s/it]\n"
     ]
    },
    {
     "data": {
      "text/plain": [
       "CommitInfo(commit_url='https://huggingface.co/datasets/Asap7772/open-web-math-processed-v2/commit/c515c09af7afb963ebcdeceda7ba12e5b97d26f5', commit_message='Upload dataset', commit_description='', oid='c515c09af7afb963ebcdeceda7ba12e5b97d26f5', pr_url=None, repo_url=RepoUrl('https://huggingface.co/datasets/Asap7772/open-web-math-processed-v2', endpoint='https://huggingface.co', repo_type='dataset', repo_id='Asap7772/open-web-math-processed-v2'), pr_revision=None, pr_num=None)"
      ]
     },
     "execution_count": 12,
     "metadata": {},
     "output_type": "execute_result"
    }
   ],
   "source": [
    "ds.push_to_hub('Asap7772/open-web-math-processed-v2')"
   ]
  },
  {
   "cell_type": "code",
   "execution_count": null,
   "metadata": {},
   "outputs": [],
   "source": []
  }
 ],
 "metadata": {
  "kernelspec": {
   "display_name": "sglang",
   "language": "python",
   "name": "python3"
  },
  "language_info": {
   "codemirror_mode": {
    "name": "ipython",
    "version": 3
   },
   "file_extension": ".py",
   "mimetype": "text/x-python",
   "name": "python",
   "nbconvert_exporter": "python",
   "pygments_lexer": "ipython3",
   "version": "3.10.15"
  }
 },
 "nbformat": 4,
 "nbformat_minor": 2
}
